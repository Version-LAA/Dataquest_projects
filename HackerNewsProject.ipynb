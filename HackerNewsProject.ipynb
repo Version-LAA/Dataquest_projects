{
 "cells": [
  {
   "cell_type": "markdown",
   "metadata": {
    "collapsed": true
   },
   "source": [
    "# Hacker News Post Analysis\n",
    "\n",
    "The purpose of this project is to analyze a subset of submissions to the Hacker News website who's post were either specific questions to the Hacker News community, or post submitted related to projects products, or something interesting. I will compare the two following\n",
    "\n",
    "- Which post recives more comments on average.\n",
    "- Do posts created at a certain times receive more comments on average."
   ]
  },
  {
   "cell_type": "code",
   "execution_count": 1,
   "metadata": {},
   "outputs": [
    {
     "name": "stdout",
     "output_type": "stream",
     "text": [
      "[['id', 'title', 'url', 'num_points', 'num_comments', 'author', 'created_at'], ['12224879', 'Interactive Dynamic Video', 'http://www.interactivedynamicvideo.com/', '386', '52', 'ne0phyte', '8/4/2016 11:52'], ['10975351', 'How to Use Open Source and Shut the Fuck Up at the Same Time', 'http://hueniverse.com/2016/01/26/how-to-use-open-source-and-shut-the-fuck-up-at-the-same-time/', '39', '10', 'josep2', '1/26/2016 19:30'], ['11964716', \"Florida DJs May Face Felony for April Fools' Water Joke\", 'http://www.thewire.com/entertainment/2013/04/florida-djs-april-fools-water-joke/63798/', '2', '1', 'vezycash', '6/23/2016 22:20'], ['11919867', 'Technology ventures: From Idea to Enterprise', 'https://www.amazon.com/Technology-Ventures-Enterprise-Thomas-Byers/dp/0073523429', '3', '1', 'hswarna', '6/17/2016 0:01']]\n"
     ]
    }
   ],
   "source": [
    "from csv import reader\n",
    "import datetime as dt\n",
    "\n",
    "open_file = open('hacker_news.csv')\n",
    "read_file = reader(open_file)\n",
    "hn = list(read_file)\n",
    "\n",
    "print(hn[:5])"
   ]
  },
  {
   "cell_type": "code",
   "execution_count": 2,
   "metadata": {},
   "outputs": [
    {
     "name": "stdout",
     "output_type": "stream",
     "text": [
      "[['12224879', 'Interactive Dynamic Video', 'http://www.interactivedynamicvideo.com/', '386', '52', 'ne0phyte', '8/4/2016 11:52'], ['10975351', 'How to Use Open Source and Shut the Fuck Up at the Same Time', 'http://hueniverse.com/2016/01/26/how-to-use-open-source-and-shut-the-fuck-up-at-the-same-time/', '39', '10', 'josep2', '1/26/2016 19:30'], ['11964716', \"Florida DJs May Face Felony for April Fools' Water Joke\", 'http://www.thewire.com/entertainment/2013/04/florida-djs-april-fools-water-joke/63798/', '2', '1', 'vezycash', '6/23/2016 22:20'], ['11919867', 'Technology ventures: From Idea to Enterprise', 'https://www.amazon.com/Technology-Ventures-Enterprise-Thomas-Byers/dp/0073523429', '3', '1', 'hswarna', '6/17/2016 0:01'], ['10301696', 'Note by Note: The Making of Steinway L1037 (2007)', 'http://www.nytimes.com/2007/11/07/movies/07stein.html?_r=0', '8', '2', 'walterbell', '9/30/2015 4:12']]\n"
     ]
    }
   ],
   "source": [
    "# Creating a list of just headers, and creating new dataset withouth headers\n",
    "headers = hn[0]\n",
    "\n",
    "hn = hn[1:]\n",
    "\n",
    "print(hn[:5])\n",
    "\n"
   ]
  },
  {
   "cell_type": "code",
   "execution_count": 5,
   "metadata": {},
   "outputs": [
    {
     "name": "stdout",
     "output_type": "stream",
     "text": [
      "Ask post:  1744\n",
      "show post:  1162\n",
      "Other post:  17194\n"
     ]
    }
   ],
   "source": [
    "'''Creating new list to filter out post that were questions,\n",
    "vs post that were interesting projects/content vs others'''\n",
    "\n",
    "ask_posts = []\n",
    "\n",
    "show_posts = []\n",
    "\n",
    "other_posts = []\n",
    "\n",
    "for row in hn:\n",
    "    title = row[1]\n",
    "    title = title.lower()\n",
    "    if title.startswith('ask hn'):\n",
    "        ask_posts.append(row)\n",
    "    elif title.startswith('show hn'):\n",
    "        show_posts.append(row)\n",
    "    else:\n",
    "        other_posts.append(row)\n",
    "        \n"
   ]
  },
  {
   "cell_type": "code",
   "execution_count": 6,
   "metadata": {},
   "outputs": [
    {
     "name": "stdout",
     "output_type": "stream",
     "text": [
      "Ask post:  1744\n",
      "show post:  1162\n",
      "Other post:  17194\n"
     ]
    }
   ],
   "source": [
    "print(\"Ask post: \", len(ask_posts))\n",
    "\n",
    "\n",
    "print(\"show post: \", len(show_posts))\n",
    "\n",
    "\n",
    "print(\"Other post: \", len(other_posts))"
   ]
  },
  {
   "cell_type": "code",
   "execution_count": 14,
   "metadata": {},
   "outputs": [
    {
     "name": "stdout",
     "output_type": "stream",
     "text": [
      "avg ask comments:  14.038417431192661\n",
      "avg show comments:  10.31669535283993\n"
     ]
    }
   ],
   "source": [
    "''' Next will find the total number of comments for both ask\n",
    "and show post to determine which post recived more comments\n",
    "avg'''\n",
    "\n",
    "\n",
    "\n",
    "def avg_comments(post_name):\n",
    "    total_ask_comments = 0\n",
    "    for post in post_name:\n",
    "        comments = int(post[4])\n",
    "        total_ask_comments += comments\n",
    "    avg_ask_comments = total_ask_comments / len(post_name)\n",
    "    return (avg_ask_comments)\n",
    "\n",
    "print(\"avg ask comments: \", avg_comments(ask_posts))\n",
    "print(\"avg show comments: \", avg_comments(show_posts))\n",
    "    "
   ]
  },
  {
   "cell_type": "markdown",
   "metadata": {},
   "source": [
    "Analysis show that on average,Ask Post recieve 14.04 comments per post, while Show post recived 10.32 comments per post. Showing that Ask post are a slightly more popular.  \n",
    "\n",
    "I will now focus the remaining analysis on ask post to identify if ask posts created at a certain time more likely to attack comments."
   ]
  },
  {
   "cell_type": "code",
   "execution_count": 19,
   "metadata": {},
   "outputs": [
    {
     "name": "stdout",
     "output_type": "stream",
     "text": [
      "example of results list: \n",
      " [[datetime.datetime(2016, 8, 16, 9, 55), 6], [datetime.datetime(2015, 11, 22, 13, 43), 29], [datetime.datetime(2016, 5, 2, 10, 14), 1], [datetime.datetime(2016, 8, 2, 14, 20), 3], [datetime.datetime(2015, 10, 15, 16, 38), 17]]\n"
     ]
    }
   ],
   "source": [
    "# change date field to datetime object to make parsing easier.\n",
    "\n",
    "d1_format = \"%m/%d/%Y %H:%M\"\n",
    "results_list = []\n",
    "\n",
    "for row in ask_posts:\n",
    "    date = row[-1]\n",
    "    comments= int(row[4])\n",
    "    new_date = dt.datetime.strptime(date,d1_format)\n",
    "    results_list.append([new_date, comments])\n",
    "\n",
    "print(\"example of results list: \\n\", results_list[:5])"
   ]
  },
  {
   "cell_type": "code",
   "execution_count": 26,
   "metadata": {},
   "outputs": [
    {
     "name": "stdout",
     "output_type": "stream",
     "text": [
      "{'09': 45, '13': 85, '10': 59, '14': 107, '16': 108, '23': 68, '12': 73, '17': 100, '15': 116, '21': 109, '20': 80, '02': 58, '18': 109, '03': 54, '05': 46, '19': 110, '01': 60, '22': 71, '08': 48, '04': 47, '00': 55, '06': 44, '07': 34, '11': 58}\n",
      "{'09': 251, '13': 1253, '10': 793, '14': 1416, '16': 1814, '23': 543, '12': 687, '17': 1146, '15': 4477, '21': 1745, '20': 1722, '02': 1381, '18': 1439, '03': 421, '05': 464, '19': 1188, '01': 683, '22': 479, '08': 492, '04': 337, '00': 447, '06': 397, '07': 267, '11': 641}\n"
     ]
    }
   ],
   "source": [
    "counts_by_hour = {}\n",
    "comments_by_hour = {}\n",
    "\n",
    "\n",
    "for row in results_list: \n",
    "    hour = row[0].strftime('%H')\n",
    "    comments = row[1]\n",
    "    if hour in counts_by_hour:\n",
    "        counts_by_hour[hour] += 1\n",
    "        comments_by_hour[hour] += comments\n",
    "    else:\n",
    "        counts_by_hour[hour] = 1\n",
    "        comments_by_hour[hour] = comments\n",
    "        \n",
    "        \n",
    "print(counts_by_hour)\n",
    "\n",
    "print(comments_by_hour)"
   ]
  },
  {
   "cell_type": "code",
   "execution_count": 27,
   "metadata": {},
   "outputs": [
    {
     "name": "stdout",
     "output_type": "stream",
     "text": [
      "{'09': 45, '13': 85, '10': 59, '14': 107, '16': 108, '23': 68, '12': 73, '17': 100, '15': 116, '21': 109, '20': 80, '02': 58, '18': 109, '03': 54, '05': 46, '19': 110, '01': 60, '22': 71, '08': 48, '04': 47, '00': 55, '06': 44, '07': 34, '11': 58}\n",
      "\n",
      "\n",
      "{'09': 251, '13': 1253, '10': 793, '14': 1416, '16': 1814, '23': 543, '12': 687, '17': 1146, '15': 4477, '21': 1745, '20': 1722, '02': 1381, '18': 1439, '03': 421, '05': 464, '19': 1188, '01': 683, '22': 479, '08': 492, '04': 337, '00': 447, '06': 397, '07': 267, '11': 641}\n"
     ]
    }
   ],
   "source": [
    "''' Below shows the number of ask posts created during each\n",
    "hour of the day. Then a second frequency table that contains \n",
    "the number of comments asks posts created at each hour received'''\n",
    "\n",
    "        \n",
    "print(counts_by_hour)\n",
    "\n",
    "print('\\n')\n",
    "\n",
    "print(comments_by_hour)\n"
   ]
  },
  {
   "cell_type": "code",
   "execution_count": 28,
   "metadata": {},
   "outputs": [
    {
     "name": "stdout",
     "output_type": "stream",
     "text": [
      "[['09', 5.5777777777777775], ['13', 14.741176470588234], ['10', 13.440677966101696], ['14', 13.233644859813085], ['16', 16.796296296296298], ['23', 7.985294117647059], ['12', 9.41095890410959], ['17', 11.46], ['15', 38.5948275862069], ['21', 16.009174311926607], ['20', 21.525], ['02', 23.810344827586206], ['18', 13.20183486238532], ['03', 7.796296296296297], ['05', 10.08695652173913], ['19', 10.8], ['01', 11.383333333333333], ['22', 6.746478873239437], ['08', 10.25], ['04', 7.170212765957447], ['00', 8.127272727272727], ['06', 9.022727272727273], ['07', 7.852941176470588], ['11', 11.051724137931034]]\n"
     ]
    }
   ],
   "source": [
    "''' Next I will create a list of a list to show the average \n",
    "number of comments per posts created during each hour of the \n",
    "day'''\n",
    "\n",
    "avg_by_hour = []\n",
    "\n",
    "for item in comments_by_hour:\n",
    "    avg_by_hour.append([item,comments_by_hour[item]/counts_by_hour[item]])\n",
    "    \n",
    "    \n",
    "print(avg_by_hour)"
   ]
  },
  {
   "cell_type": "code",
   "execution_count": 44,
   "metadata": {},
   "outputs": [
    {
     "name": "stdout",
     "output_type": "stream",
     "text": [
      "[[5.5777777777777775, '09'], [14.741176470588234, '13'], [13.440677966101696, '10'], [13.233644859813085, '14'], [16.796296296296298, '16'], [7.985294117647059, '23'], [9.41095890410959, '12'], [11.46, '17'], [38.5948275862069, '15'], [16.009174311926607, '21'], [21.525, '20'], [23.810344827586206, '02'], [13.20183486238532, '18'], [7.796296296296297, '03'], [10.08695652173913, '05'], [10.8, '19'], [11.383333333333333, '01'], [6.746478873239437, '22'], [10.25, '08'], [7.170212765957447, '04'], [8.127272727272727, '00'], [9.022727272727273, '06'], [7.852941176470588, '07'], [11.051724137931034, '11']]\n",
      "\n",
      "\n",
      "top 5 Hours for Ask Posts Comments \n",
      " [[38.5948275862069, '15'], [23.810344827586206, '02'], [21.525, '20'], [16.796296296296298, '16'], [16.009174311926607, '21']]\n",
      "\n",
      "\n",
      "top 5 Hours for Ask Posts Comments - Formatted \n",
      "\n",
      "15:00:38.59 average comments per post\n",
      "02:00:23.81 average comments per post\n",
      "20:00:21.52 average comments per post\n",
      "16:00:16.80 average comments per post\n",
      "21:00:16.01 average comments per post\n"
     ]
    }
   ],
   "source": [
    "#final sorting\n",
    "\n",
    "swap_avg_by_hour = []\n",
    "\n",
    "for item in avg_by_hour:\n",
    "    swap_avg_by_hour.append([item[1],item[0]])\n",
    "\n",
    "print(swap_avg_by_hour)\n",
    "\n",
    "print('\\n')\n",
    "\n",
    "sorted_swap = sorted(swap_avg_by_hour,reverse=True)\n",
    "\n",
    "print(\"top 5 Hours for Ask Posts Comments \\n\", sorted_swap[:5])\n",
    "print('\\n')\n",
    "print(\"top 5 Hours for Ask Posts Comments - Formatted \\n\")\n",
    "for item in sorted_swap[:5]:\n",
    "    time = int(item[1])\n",
    "    avg = item[0]\n",
    "    date_obj = dt.time(hour=time)\n",
    "    f_time= date_obj.strftime(\"%H:%S\")\n",
    "    \n",
    "    \n",
    "    print(\"{}:{:,.2f} average comments per post\".format(f_time,avg))\n",
    "    \n"
   ]
  },
  {
   "cell_type": "markdown",
   "metadata": {},
   "source": [
    "# Final Analysis\n",
    "\n",
    "Based on my , the top five hours that a post will acquire the most comments is the 5 PM hour with the average number of comments are 38.59. I believe this could be attributed to the average time user's are off work.\n",
    "\n",
    "top 5 Hours for Ask Posts Comments - Formatted \n",
    "\n",
    "15:00:38.59 average comments per post\n",
    "02:00:23.81 average comments per post\n",
    "20:00:21.52 average comments per post\n",
    "16:00:16.80 average comments per post\n",
    "21:00:16.01 average comments per post"
   ]
  }
 ],
 "metadata": {
  "kernelspec": {
   "display_name": "Python 3",
   "language": "python",
   "name": "python3"
  },
  "language_info": {
   "codemirror_mode": {
    "name": "ipython",
    "version": 3
   },
   "file_extension": ".py",
   "mimetype": "text/x-python",
   "name": "python",
   "nbconvert_exporter": "python",
   "pygments_lexer": "ipython3",
   "version": "3.8.2"
  }
 },
 "nbformat": 4,
 "nbformat_minor": 2
}
